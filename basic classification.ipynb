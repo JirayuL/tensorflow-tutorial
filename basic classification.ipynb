{
 "cells": [
  {
   "cell_type": "code",
   "execution_count": 1,
   "metadata": {},
   "outputs": [
    {
     "name": "stderr",
     "output_type": "stream",
     "text": [
      "/usr/local/anaconda3/lib/python3.6/site-packages/h5py/__init__.py:36: FutureWarning: Conversion of the second argument of issubdtype from `float` to `np.floating` is deprecated. In future, it will be treated as `np.float64 == np.dtype(float).type`.\n",
      "  from ._conv import register_converters as _register_converters\n"
     ]
    },
    {
     "name": "stdout",
     "output_type": "stream",
     "text": [
      "1.12.0\n"
     ]
    }
   ],
   "source": [
    "# TensorFlow and tf.keras\n",
    "import tensorflow as tf\n",
    "from tensorflow import keras\n",
    "\n",
    "# Helper libraries\n",
    "import numpy as np\n",
    "import matplotlib.pyplot as plt\n",
    "\n",
    "print(tf.__version__)"
   ]
  },
  {
   "cell_type": "code",
   "execution_count": 2,
   "metadata": {
    "collapsed": true
   },
   "outputs": [],
   "source": [
    "fashion_mnist = keras.datasets.fashion_mnist\n",
    "\n",
    "(train_images, train_labels), (test_images, test_labels) = fashion_mnist.load_data()"
   ]
  },
  {
   "cell_type": "code",
   "execution_count": 3,
   "metadata": {
    "collapsed": true
   },
   "outputs": [],
   "source": [
    "class_names = ['T-shirt/top', 'Trouser', 'Pullover', 'Dress', 'Coat', \n",
    "               'Sandal', 'Shirt', 'Sneaker', 'Bag', 'Ankle boot']"
   ]
  },
  {
   "cell_type": "code",
   "execution_count": 4,
   "metadata": {},
   "outputs": [
    {
     "data": {
      "text/plain": [
       "(60000, 28, 28)"
      ]
     },
     "execution_count": 4,
     "metadata": {},
     "output_type": "execute_result"
    }
   ],
   "source": [
    "train_images.shape"
   ]
  },
  {
   "cell_type": "code",
   "execution_count": 5,
   "metadata": {},
   "outputs": [
    {
     "data": {
      "text/plain": [
       "60000"
      ]
     },
     "execution_count": 5,
     "metadata": {},
     "output_type": "execute_result"
    }
   ],
   "source": [
    "len(train_labels)"
   ]
  },
  {
   "cell_type": "code",
   "execution_count": 6,
   "metadata": {},
   "outputs": [
    {
     "data": {
      "text/plain": [
       "array([9, 0, 0, ..., 3, 0, 5], dtype=uint8)"
      ]
     },
     "execution_count": 6,
     "metadata": {},
     "output_type": "execute_result"
    }
   ],
   "source": [
    "train_labels"
   ]
  },
  {
   "cell_type": "code",
   "execution_count": 7,
   "metadata": {},
   "outputs": [
    {
     "data": {
      "text/plain": [
       "(10000, 28, 28)"
      ]
     },
     "execution_count": 7,
     "metadata": {},
     "output_type": "execute_result"
    }
   ],
   "source": [
    "test_images.shape"
   ]
  },
  {
   "cell_type": "code",
   "execution_count": 8,
   "metadata": {},
   "outputs": [
    {
     "data": {
      "text/plain": [
       "10000"
      ]
     },
     "execution_count": 8,
     "metadata": {},
     "output_type": "execute_result"
    }
   ],
   "source": [
    "len(test_labels)"
   ]
  },
  {
   "cell_type": "code",
   "execution_count": 9,
   "metadata": {
    "collapsed": true
   },
   "outputs": [],
   "source": [
    "plt.figure()\n",
    "plt.imshow(train_images[0])\n",
    "plt.colorbar()\n",
    "plt.grid(False)"
   ]
  },
  {
   "cell_type": "code",
   "execution_count": 10,
   "metadata": {
    "collapsed": true
   },
   "outputs": [],
   "source": [
    "train_images = train_images / 255.0\n",
    "\n",
    "test_images = test_images / 255.0"
   ]
  },
  {
   "cell_type": "code",
   "execution_count": 11,
   "metadata": {
    "collapsed": true
   },
   "outputs": [],
   "source": [
    "plt.figure(figsize=(10,10))\n",
    "for i in range(25):\n",
    "    plt.subplot(5,5,i+1)\n",
    "    plt.xticks([])\n",
    "    plt.yticks([])\n",
    "    plt.grid(False)\n",
    "    plt.imshow(train_images[i], cmap=plt.cm.binary)\n",
    "    plt.xlabel(class_names[train_labels[i]])"
   ]
  },
  {
   "cell_type": "code",
   "execution_count": 12,
   "metadata": {
    "collapsed": true
   },
   "outputs": [],
   "source": [
    "model = keras.Sequential([\n",
    "    keras.layers.Flatten(input_shape=(28, 28)),\n",
    "    keras.layers.Dense(128, activation=tf.nn.relu),\n",
    "    keras.layers.Dense(10, activation=tf.nn.softmax)\n",
    "])"
   ]
  },
  {
   "cell_type": "code",
   "execution_count": 13,
   "metadata": {
    "collapsed": true
   },
   "outputs": [],
   "source": [
    "model = keras.Sequential([\n",
    "    keras.layers.Flatten(input_shape=(28, 28)),\n",
    "    keras.layers.Dense(128, activation=tf.nn.relu),\n",
    "    keras.layers.Dense(10, activation=tf.nn.softmax)\n",
    "])"
   ]
  },
  {
   "cell_type": "code",
   "execution_count": 14,
   "metadata": {
    "collapsed": true
   },
   "outputs": [],
   "source": [
    "model.compile(optimizer=tf.train.AdamOptimizer(), \n",
    "              loss='sparse_categorical_crossentropy',\n",
    "              metrics=['accuracy'])"
   ]
  },
  {
   "cell_type": "code",
   "execution_count": 15,
   "metadata": {},
   "outputs": [
    {
     "name": "stdout",
     "output_type": "stream",
     "text": [
      "Epoch 1/100\n",
      "60000/60000 [==============================] - 4s 68us/step - loss: 0.4984 - acc: 0.8252\n",
      "Epoch 2/100\n",
      "60000/60000 [==============================] - 4s 64us/step - loss: 0.3773 - acc: 0.8647\n",
      "Epoch 3/100\n",
      "60000/60000 [==============================] - 4s 63us/step - loss: 0.3395 - acc: 0.8775\n",
      "Epoch 4/100\n",
      "60000/60000 [==============================] - 4s 65us/step - loss: 0.3161 - acc: 0.8836\n",
      "Epoch 5/100\n",
      "60000/60000 [==============================] - 4s 67us/step - loss: 0.2966 - acc: 0.8911\n",
      "Epoch 6/100\n",
      "60000/60000 [==============================] - 4s 65us/step - loss: 0.2831 - acc: 0.8954\n",
      "Epoch 7/100\n",
      "60000/60000 [==============================] - 4s 65us/step - loss: 0.2703 - acc: 0.8998\n",
      "Epoch 8/100\n",
      "60000/60000 [==============================] - 4s 66us/step - loss: 0.2602 - acc: 0.9026\n",
      "Epoch 9/100\n",
      "60000/60000 [==============================] - 4s 64us/step - loss: 0.2506 - acc: 0.9062\n",
      "Epoch 10/100\n",
      "60000/60000 [==============================] - 4s 66us/step - loss: 0.2422 - acc: 0.9087\n",
      "Epoch 11/100\n",
      "60000/60000 [==============================] - 4s 67us/step - loss: 0.2335 - acc: 0.9123\n",
      "Epoch 12/100\n",
      "60000/60000 [==============================] - 4s 66us/step - loss: 0.2261 - acc: 0.9153\n",
      "Epoch 13/100\n",
      "60000/60000 [==============================] - 4s 66us/step - loss: 0.2181 - acc: 0.9185\n",
      "Epoch 14/100\n",
      "60000/60000 [==============================] - 4s 68us/step - loss: 0.2133 - acc: 0.9198\n",
      "Epoch 15/100\n",
      "60000/60000 [==============================] - 4s 67us/step - loss: 0.2046 - acc: 0.9232\n",
      "Epoch 16/100\n",
      "60000/60000 [==============================] - 4s 69us/step - loss: 0.2011 - acc: 0.9239\n",
      "Epoch 17/100\n",
      "60000/60000 [==============================] - 4s 67us/step - loss: 0.1941 - acc: 0.9278\n",
      "Epoch 18/100\n",
      "60000/60000 [==============================] - 4s 67us/step - loss: 0.1891 - acc: 0.9292\n",
      "Epoch 19/100\n",
      "60000/60000 [==============================] - 4s 66us/step - loss: 0.1875 - acc: 0.9279\n",
      "Epoch 20/100\n",
      "60000/60000 [==============================] - 4s 66us/step - loss: 0.1812 - acc: 0.9306\n",
      "Epoch 21/100\n",
      "60000/60000 [==============================] - 4s 73us/step - loss: 0.1771 - acc: 0.9330\n",
      "Epoch 22/100\n",
      "60000/60000 [==============================] - 4s 71us/step - loss: 0.1722 - acc: 0.9347\n",
      "Epoch 23/100\n",
      "60000/60000 [==============================] - 4s 66us/step - loss: 0.1688 - acc: 0.9367\n",
      "Epoch 24/100\n",
      "60000/60000 [==============================] - 4s 66us/step - loss: 0.1647 - acc: 0.9374\n",
      "Epoch 25/100\n",
      "60000/60000 [==============================] - 4s 68us/step - loss: 0.1614 - acc: 0.9389\n",
      "Epoch 26/100\n",
      "60000/60000 [==============================] - 4s 68us/step - loss: 0.1566 - acc: 0.9398\n",
      "Epoch 27/100\n",
      "60000/60000 [==============================] - 4s 66us/step - loss: 0.1541 - acc: 0.9413\n",
      "Epoch 28/100\n",
      "60000/60000 [==============================] - 4s 67us/step - loss: 0.1483 - acc: 0.9446\n",
      "Epoch 29/100\n",
      "60000/60000 [==============================] - 4s 66us/step - loss: 0.1478 - acc: 0.9446\n",
      "Epoch 30/100\n",
      "60000/60000 [==============================] - 4s 66us/step - loss: 0.1434 - acc: 0.9468\n",
      "Epoch 31/100\n",
      "60000/60000 [==============================] - 4s 67us/step - loss: 0.1408 - acc: 0.9467\n",
      "Epoch 32/100\n",
      "60000/60000 [==============================] - 4s 67us/step - loss: 0.1367 - acc: 0.9480\n",
      "Epoch 33/100\n",
      "60000/60000 [==============================] - 4s 67us/step - loss: 0.1347 - acc: 0.9493\n",
      "Epoch 34/100\n",
      "60000/60000 [==============================] - 4s 67us/step - loss: 0.1321 - acc: 0.9499\n",
      "Epoch 35/100\n",
      "60000/60000 [==============================] - 4s 66us/step - loss: 0.1304 - acc: 0.9509\n",
      "Epoch 36/100\n",
      "60000/60000 [==============================] - 4s 66us/step - loss: 0.1274 - acc: 0.9515\n",
      "Epoch 37/100\n",
      "60000/60000 [==============================] - 4s 66us/step - loss: 0.1243 - acc: 0.9529\n",
      "Epoch 38/100\n",
      "60000/60000 [==============================] - 4s 66us/step - loss: 0.1222 - acc: 0.9541\n",
      "Epoch 39/100\n",
      "60000/60000 [==============================] - 4s 66us/step - loss: 0.1204 - acc: 0.9550\n",
      "Epoch 40/100\n",
      "60000/60000 [==============================] - 4s 67us/step - loss: 0.1203 - acc: 0.9546\n",
      "Epoch 41/100\n",
      "60000/60000 [==============================] - 4s 66us/step - loss: 0.1161 - acc: 0.9557\n",
      "Epoch 42/100\n",
      "60000/60000 [==============================] - 4s 66us/step - loss: 0.1144 - acc: 0.9568\n",
      "Epoch 43/100\n",
      "60000/60000 [==============================] - 4s 67us/step - loss: 0.1119 - acc: 0.9571\n",
      "Epoch 44/100\n",
      "60000/60000 [==============================] - 4s 67us/step - loss: 0.1094 - acc: 0.9591\n",
      "Epoch 45/100\n",
      "60000/60000 [==============================] - 4s 67us/step - loss: 0.1101 - acc: 0.9581\n",
      "Epoch 46/100\n",
      "60000/60000 [==============================] - 4s 69us/step - loss: 0.1054 - acc: 0.9605\n",
      "Epoch 47/100\n",
      "60000/60000 [==============================] - 4s 68us/step - loss: 0.1058 - acc: 0.9600\n",
      "Epoch 48/100\n",
      "60000/60000 [==============================] - 4s 68us/step - loss: 0.1037 - acc: 0.9615\n",
      "Epoch 49/100\n",
      "60000/60000 [==============================] - 4s 68us/step - loss: 0.1023 - acc: 0.9612\n",
      "Epoch 50/100\n",
      "60000/60000 [==============================] - 4s 69us/step - loss: 0.0986 - acc: 0.9631\n",
      "Epoch 51/100\n",
      "60000/60000 [==============================] - 4s 69us/step - loss: 0.0958 - acc: 0.9640\n",
      "Epoch 52/100\n",
      "60000/60000 [==============================] - 4s 69us/step - loss: 0.0966 - acc: 0.9628\n",
      "Epoch 53/100\n",
      "60000/60000 [==============================] - 4s 67us/step - loss: 0.0947 - acc: 0.9643\n",
      "Epoch 54/100\n",
      "60000/60000 [==============================] - 4s 69us/step - loss: 0.0942 - acc: 0.9641\n",
      "Epoch 55/100\n",
      "60000/60000 [==============================] - 4s 70us/step - loss: 0.0923 - acc: 0.9658\n",
      "Epoch 56/100\n",
      "60000/60000 [==============================] - 4s 67us/step - loss: 0.0906 - acc: 0.9658\n",
      "Epoch 57/100\n",
      "60000/60000 [==============================] - 4s 66us/step - loss: 0.0890 - acc: 0.9661\n",
      "Epoch 58/100\n",
      "60000/60000 [==============================] - 4s 69us/step - loss: 0.0897 - acc: 0.9668\n",
      "Epoch 59/100\n",
      "60000/60000 [==============================] - 8s 129us/step - loss: 0.0863 - acc: 0.9676\n",
      "Epoch 60/100\n",
      "60000/60000 [==============================] - 4s 66us/step - loss: 0.0859 - acc: 0.9683\n",
      "Epoch 61/100\n",
      "60000/60000 [==============================] - 4s 65us/step - loss: 0.0853 - acc: 0.9684\n",
      "Epoch 62/100\n",
      "60000/60000 [==============================] - 4s 67us/step - loss: 0.0837 - acc: 0.9681\n",
      "Epoch 63/100\n",
      "60000/60000 [==============================] - 4s 68us/step - loss: 0.0822 - acc: 0.9687\n",
      "Epoch 64/100\n",
      "60000/60000 [==============================] - 4s 71us/step - loss: 0.0809 - acc: 0.9699\n",
      "Epoch 65/100\n",
      "60000/60000 [==============================] - 5s 78us/step - loss: 0.0799 - acc: 0.9698\n",
      "Epoch 66/100\n",
      "60000/60000 [==============================] - 8s 139us/step - loss: 0.0802 - acc: 0.9696\n",
      "Epoch 67/100\n",
      "60000/60000 [==============================] - 4s 71us/step - loss: 0.0773 - acc: 0.9709\n",
      "Epoch 68/100\n",
      "60000/60000 [==============================] - 4s 68us/step - loss: 0.0791 - acc: 0.9703\n",
      "Epoch 69/100\n",
      "60000/60000 [==============================] - 4s 69us/step - loss: 0.0748 - acc: 0.9724\n",
      "Epoch 70/100\n",
      "60000/60000 [==============================] - 7s 114us/step - loss: 0.0736 - acc: 0.9722\n",
      "Epoch 71/100\n",
      "60000/60000 [==============================] - 9s 150us/step - loss: 0.0722 - acc: 0.9732\n",
      "Epoch 72/100\n",
      "60000/60000 [==============================] - 4s 66us/step - loss: 0.0726 - acc: 0.9726\n",
      "Epoch 73/100\n",
      "60000/60000 [==============================] - 5s 91us/step - loss: 0.0737 - acc: 0.9730\n",
      "Epoch 74/100\n",
      "60000/60000 [==============================] - 8s 130us/step - loss: 0.0713 - acc: 0.9740\n",
      "Epoch 75/100\n",
      "60000/60000 [==============================] - 4s 69us/step - loss: 0.0710 - acc: 0.9727\n",
      "Epoch 76/100\n",
      "60000/60000 [==============================] - 7s 116us/step - loss: 0.0668 - acc: 0.9745\n",
      "Epoch 77/100\n",
      "60000/60000 [==============================] - 6s 106us/step - loss: 0.0694 - acc: 0.9747\n",
      "Epoch 78/100\n",
      "60000/60000 [==============================] - 5s 77us/step - loss: 0.0672 - acc: 0.9746\n",
      "Epoch 79/100\n",
      "60000/60000 [==============================] - 8s 139us/step - loss: 0.0656 - acc: 0.9754\n",
      "Epoch 80/100\n",
      "60000/60000 [==============================] - 4s 69us/step - loss: 0.0677 - acc: 0.9749\n",
      "Epoch 81/100\n",
      "60000/60000 [==============================] - 6s 98us/step - loss: 0.0654 - acc: 0.9755\n",
      "Epoch 82/100\n",
      "60000/60000 [==============================] - 8s 139us/step - loss: 0.0655 - acc: 0.9758\n",
      "Epoch 83/100\n",
      "60000/60000 [==============================] - 10s 166us/step - loss: 0.0629 - acc: 0.9765\n",
      "Epoch 84/100\n",
      "60000/60000 [==============================] - 7s 116us/step - loss: 0.0644 - acc: 0.9759\n",
      "Epoch 85/100\n",
      "60000/60000 [==============================] - 6s 102us/step - loss: 0.0621 - acc: 0.9775\n",
      "Epoch 86/100\n",
      "60000/60000 [==============================] - 9s 143us/step - loss: 0.0635 - acc: 0.9765\n",
      "Epoch 87/100\n",
      "60000/60000 [==============================] - 5s 76us/step - loss: 0.0637 - acc: 0.9768\n",
      "Epoch 88/100\n",
      "60000/60000 [==============================] - 6s 102us/step - loss: 0.0594 - acc: 0.9773\n",
      "Epoch 89/100\n",
      "60000/60000 [==============================] - 8s 140us/step - loss: 0.0593 - acc: 0.9780\n",
      "Epoch 90/100\n",
      "60000/60000 [==============================] - 9s 143us/step - loss: 0.0582 - acc: 0.9785\n",
      "Epoch 91/100\n",
      "60000/60000 [==============================] - 8s 139us/step - loss: 0.0570 - acc: 0.9790\n",
      "Epoch 92/100\n",
      "60000/60000 [==============================] - 9s 151us/step - loss: 0.0569 - acc: 0.9782\n",
      "Epoch 93/100\n",
      "60000/60000 [==============================] - 6s 96us/step - loss: 0.0568 - acc: 0.9789\n",
      "Epoch 94/100\n",
      "60000/60000 [==============================] - 5s 88us/step - loss: 0.0576 - acc: 0.9781\n",
      "Epoch 95/100\n",
      "60000/60000 [==============================] - 9s 145us/step - loss: 0.0524 - acc: 0.9804\n",
      "Epoch 96/100\n",
      "60000/60000 [==============================] - 8s 129us/step - loss: 0.0545 - acc: 0.9801\n",
      "Epoch 97/100\n",
      "60000/60000 [==============================] - 4s 74us/step - loss: 0.0526 - acc: 0.9804\n",
      "Epoch 98/100\n",
      "60000/60000 [==============================] - 9s 155us/step - loss: 0.0566 - acc: 0.9788\n",
      "Epoch 99/100\n",
      "60000/60000 [==============================] - 8s 140us/step - loss: 0.0518 - acc: 0.9806\n",
      "Epoch 100/100\n",
      "60000/60000 [==============================] - 8s 141us/step - loss: 0.0520 - acc: 0.9802\n"
     ]
    },
    {
     "data": {
      "text/plain": [
       "<tensorflow.python.keras.callbacks.History at 0x181abb0668>"
      ]
     },
     "execution_count": 15,
     "metadata": {},
     "output_type": "execute_result"
    }
   ],
   "source": [
    "model.fit(train_images, train_labels, epochs=100)"
   ]
  },
  {
   "cell_type": "code",
   "execution_count": 16,
   "metadata": {},
   "outputs": [
    {
     "name": "stdout",
     "output_type": "stream",
     "text": [
      "10000/10000 [==============================] - 0s 41us/step\n",
      "Test accuracy: 0.8857\n"
     ]
    }
   ],
   "source": [
    "test_loss, test_acc = model.evaluate(test_images, test_labels)\n",
    "\n",
    "print('Test accuracy:', test_acc)"
   ]
  },
  {
   "cell_type": "code",
   "execution_count": 17,
   "metadata": {
    "collapsed": true
   },
   "outputs": [],
   "source": [
    "predictions = model.predict(test_images)"
   ]
  },
  {
   "cell_type": "code",
   "execution_count": 18,
   "metadata": {},
   "outputs": [
    {
     "data": {
      "text/plain": [
       "array([2.58742592e-17, 4.52863102e-34, 1.32952645e-33, 0.00000000e+00,\n",
       "       3.36745101e-32, 5.77681393e-16, 0.00000000e+00, 2.28814092e-15,\n",
       "       1.54108415e-25, 1.00000000e+00], dtype=float32)"
      ]
     },
     "execution_count": 18,
     "metadata": {},
     "output_type": "execute_result"
    }
   ],
   "source": [
    "predictions[0]"
   ]
  },
  {
   "cell_type": "code",
   "execution_count": 19,
   "metadata": {},
   "outputs": [
    {
     "data": {
      "text/plain": [
       "9"
      ]
     },
     "execution_count": 19,
     "metadata": {},
     "output_type": "execute_result"
    }
   ],
   "source": [
    "np.argmax(predictions[0])"
   ]
  },
  {
   "cell_type": "code",
   "execution_count": 20,
   "metadata": {},
   "outputs": [
    {
     "data": {
      "text/plain": [
       "9"
      ]
     },
     "execution_count": 20,
     "metadata": {},
     "output_type": "execute_result"
    }
   ],
   "source": [
    "test_labels[0]"
   ]
  },
  {
   "cell_type": "code",
   "execution_count": 21,
   "metadata": {
    "collapsed": true
   },
   "outputs": [],
   "source": [
    "def plot_image(i, predictions_array, true_label, img):\n",
    "  predictions_array, true_label, img = predictions_array[i], true_label[i], img[i]\n",
    "  plt.grid(False)\n",
    "  plt.xticks([])\n",
    "  plt.yticks([])\n",
    "  \n",
    "  plt.imshow(img, cmap=plt.cm.binary)\n",
    "\n",
    "  predicted_label = np.argmax(predictions_array)\n",
    "  if predicted_label == true_label:\n",
    "    color = 'blue'\n",
    "  else:\n",
    "    color = 'red'\n",
    "  \n",
    "  plt.xlabel(\"{} {:2.0f}% ({})\".format(class_names[predicted_label],\n",
    "                                100*np.max(predictions_array),\n",
    "                                class_names[true_label]),\n",
    "                                color=color)\n",
    "\n",
    "def plot_value_array(i, predictions_array, true_label):\n",
    "  predictions_array, true_label = predictions_array[i], true_label[i]\n",
    "  plt.grid(False)\n",
    "  plt.xticks([])\n",
    "  plt.yticks([])\n",
    "  thisplot = plt.bar(range(10), predictions_array, color=\"#777777\")\n",
    "  plt.ylim([0, 1]) \n",
    "  predicted_label = np.argmax(predictions_array)\n",
    " \n",
    "  thisplot[predicted_label].set_color('red')\n",
    "  thisplot[true_label].set_color('blue')"
   ]
  },
  {
   "cell_type": "code",
   "execution_count": 22,
   "metadata": {
    "collapsed": true
   },
   "outputs": [],
   "source": [
    "i = 0\n",
    "plt.figure(figsize=(6,3))\n",
    "plt.subplot(1,2,1)\n",
    "plot_image(i, predictions, test_labels, test_images)\n",
    "plt.subplot(1,2,2)\n",
    "plot_value_array(i, predictions,  test_labels)"
   ]
  },
  {
   "cell_type": "code",
   "execution_count": 23,
   "metadata": {
    "collapsed": true
   },
   "outputs": [],
   "source": [
    "i = 12\n",
    "plt.figure(figsize=(6,3))\n",
    "plt.subplot(1,2,1)\n",
    "plot_image(i, predictions, test_labels, test_images)\n",
    "plt.subplot(1,2,2)\n",
    "plot_value_array(i, predictions,  test_labels)"
   ]
  },
  {
   "cell_type": "code",
   "execution_count": 24,
   "metadata": {
    "collapsed": true
   },
   "outputs": [],
   "source": [
    "# Plot the first X test images, their predicted label, and the true label\n",
    "# Color correct predictions in blue, incorrect predictions in red\n",
    "num_rows = 5\n",
    "num_cols = 3\n",
    "num_images = num_rows*num_cols\n",
    "plt.figure(figsize=(2*2*num_cols, 2*num_rows))\n",
    "for i in range(num_images):\n",
    "  plt.subplot(num_rows, 2*num_cols, 2*i+1)\n",
    "  plot_image(i, predictions, test_labels, test_images)\n",
    "  plt.subplot(num_rows, 2*num_cols, 2*i+2)\n",
    "  plot_value_array(i, predictions, test_labels)"
   ]
  },
  {
   "cell_type": "code",
   "execution_count": 25,
   "metadata": {},
   "outputs": [
    {
     "name": "stdout",
     "output_type": "stream",
     "text": [
      "(28, 28)\n"
     ]
    }
   ],
   "source": [
    "# Grab an image from the test dataset\n",
    "img = test_images[0]\n",
    "\n",
    "print(img.shape)"
   ]
  },
  {
   "cell_type": "code",
   "execution_count": 26,
   "metadata": {},
   "outputs": [
    {
     "name": "stdout",
     "output_type": "stream",
     "text": [
      "(1, 28, 28)\n"
     ]
    }
   ],
   "source": [
    "# Add the image to a batch where it's the only member.\n",
    "img = (np.expand_dims(img,0))\n",
    "\n",
    "print(img.shape)"
   ]
  },
  {
   "cell_type": "code",
   "execution_count": 27,
   "metadata": {},
   "outputs": [
    {
     "name": "stdout",
     "output_type": "stream",
     "text": [
      "[[2.58742592e-17 4.52859658e-34 1.32950615e-33 0.00000000e+00\n",
      "  3.36747658e-32 5.77679223e-16 0.00000000e+00 2.28814092e-15\n",
      "  1.54108428e-25 1.00000000e+00]]\n"
     ]
    }
   ],
   "source": [
    "predictions_single = model.predict(img)\n",
    "\n",
    "print(predictions_single)"
   ]
  },
  {
   "cell_type": "code",
   "execution_count": 28,
   "metadata": {
    "collapsed": true
   },
   "outputs": [],
   "source": [
    "plot_value_array(0, predictions_single, test_labels)\n",
    "_ = plt.xticks(range(10), class_names, rotation=45)"
   ]
  },
  {
   "cell_type": "code",
   "execution_count": 29,
   "metadata": {},
   "outputs": [
    {
     "data": {
      "text/plain": [
       "9"
      ]
     },
     "execution_count": 29,
     "metadata": {},
     "output_type": "execute_result"
    }
   ],
   "source": [
    "np.argmax(predictions_single[0])"
   ]
  },
  {
   "cell_type": "code",
   "execution_count": null,
   "metadata": {
    "collapsed": true
   },
   "outputs": [],
   "source": []
  },
  {
   "cell_type": "code",
   "execution_count": null,
   "metadata": {
    "collapsed": true
   },
   "outputs": [],
   "source": []
  },
  {
   "cell_type": "code",
   "execution_count": null,
   "metadata": {
    "collapsed": true
   },
   "outputs": [],
   "source": []
  },
  {
   "cell_type": "code",
   "execution_count": null,
   "metadata": {
    "collapsed": true
   },
   "outputs": [],
   "source": []
  },
  {
   "cell_type": "code",
   "execution_count": null,
   "metadata": {
    "collapsed": true
   },
   "outputs": [],
   "source": []
  },
  {
   "cell_type": "code",
   "execution_count": null,
   "metadata": {
    "collapsed": true
   },
   "outputs": [],
   "source": []
  },
  {
   "cell_type": "code",
   "execution_count": null,
   "metadata": {
    "collapsed": true
   },
   "outputs": [],
   "source": []
  },
  {
   "cell_type": "code",
   "execution_count": null,
   "metadata": {
    "collapsed": true
   },
   "outputs": [],
   "source": []
  },
  {
   "cell_type": "code",
   "execution_count": null,
   "metadata": {
    "collapsed": true
   },
   "outputs": [],
   "source": []
  }
 ],
 "metadata": {
  "kernelspec": {
   "display_name": "Python 3",
   "language": "python",
   "name": "python3"
  },
  "language_info": {
   "codemirror_mode": {
    "name": "ipython",
    "version": 3
   },
   "file_extension": ".py",
   "mimetype": "text/x-python",
   "name": "python",
   "nbconvert_exporter": "python",
   "pygments_lexer": "ipython3",
   "version": "3.6.5"
  }
 },
 "nbformat": 4,
 "nbformat_minor": 2
}
